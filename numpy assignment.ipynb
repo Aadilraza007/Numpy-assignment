{
 "cells": [
  {
   "cell_type": "code",
   "execution_count": 6,
   "id": "d2a550a0-4620-4dde-a2ca-090425abd942",
   "metadata": {},
   "outputs": [
    {
     "name": "stdout",
     "output_type": "stream",
     "text": [
      "[0 1 2 3 4]\n",
      "<class 'numpy.ndarray'>\n"
     ]
    }
   ],
   "source": [
    "#1. Create a NumPy array 'arr' of integers from 0 to 5 and print its data type.\n",
    "\n",
    "import numpy as np\n",
    "arr=np.arange(0,5)\n",
    "print(arr)\n",
    "print(type(arr))\n"
   ]
  },
  {
   "cell_type": "code",
   "execution_count": 9,
   "id": "5f7e6321-620f-4b39-9e68-06e2393cc933",
   "metadata": {},
   "outputs": [
    {
     "name": "stdout",
     "output_type": "stream",
     "text": [
      "data type: float64\n",
      "yes its float64\n"
     ]
    }
   ],
   "source": [
    "#2. Given a NumPy array 'arr', check if its data type is float64.\n",
    "\n",
    "import numpy as np\n",
    "\n",
    "arr = np.array([1.5, 2.6, 3.7])\n",
    "\n",
    "print(\"data type:\",arr.dtype)\n",
    "print(\"yes its float64\")"
   ]
  },
  {
   "cell_type": "code",
   "execution_count": 38,
   "id": "59af7756-ee8d-49f5-8597-a679bf015856",
   "metadata": {},
   "outputs": [
    {
     "name": "stdout",
     "output_type": "stream",
     "text": [
      "data type: complex128\n"
     ]
    }
   ],
   "source": [
    "#3. Create a NumPy array 'arr' with a data type of complex128 containing three complex numbers.\n",
    "\n",
    "import numpy as np\n",
    "arr=np.array([5+6j,7+5j,10+7j])\n",
    "\n",
    "print(\"data type:\",arr.dtype)"
   ]
  },
  {
   "cell_type": "code",
   "execution_count": 14,
   "id": "44854113-351d-4aeb-9369-af144f772980",
   "metadata": {},
   "outputs": [
    {
     "name": "stdout",
     "output_type": "stream",
     "text": [
      "[1. 2.]\n",
      "float32\n"
     ]
    }
   ],
   "source": [
    "#4. Convert an existing NumPy array 'arr' of integers to float32 data type.\n",
    "\n",
    "import numpy as np\n",
    "arr=np.array([1,2])\n",
    "\n",
    "float_array=np.array(arr, dtype=np.float32)\n",
    "\n",
    "print(float_array)\n",
    "print(float_array.dtype)\n"
   ]
  },
  {
   "cell_type": "code",
   "execution_count": 19,
   "id": "b547abd6-5904-46e6-bbbd-7799d1696822",
   "metadata": {},
   "outputs": [
    {
     "name": "stdout",
     "output_type": "stream",
     "text": [
      "float64\n",
      "after reducing decimal: float32\n"
     ]
    }
   ],
   "source": [
    "#5.Given a NumPy array 'arr' with float64 data type, convert it to float32 to reduce decimal precision.\n",
    "\n",
    "import numpy as np\n",
    "\n",
    "arr=np.array([1.9,2.7,3.4])\n",
    "\n",
    "print(arr.dtype)\n",
    "\n",
    "reduce=np.array(arr, dtype=np.float32)\n",
    "\n",
    "print(\"after reducing decimal:\",reduce.dtype)\n"
   ]
  },
  {
   "cell_type": "code",
   "execution_count": 1,
   "id": "a314bc56-ff98-446d-92a4-5071f350536d",
   "metadata": {},
   "outputs": [
    {
     "name": "stdout",
     "output_type": "stream",
     "text": [
      "shape , size and data type: ((3, 2), 6, dtype('int64'))\n"
     ]
    }
   ],
   "source": [
    "#6. Write a function array_attributes that takes a NumPy array as input and returns its shape, size, and datatype.\n",
    "\n",
    "import numpy as np\n",
    "array_att1= np.array([[4,5],[4,3],[4,4]])\n",
    "\n",
    "def array_attributes(array_att1):\n",
    "    a=array_att1.shape\n",
    "    b=array_att1.size\n",
    "    c=array_att1.dtype\n",
    "    return a,b,c\n",
    "\n",
    "print(\"shape , size and data type:\",array_attributes(array_att1))\n"
   ]
  },
  {
   "cell_type": "code",
   "execution_count": 34,
   "id": "c721e7fd-9cbe-4b9f-a6ec-6a762d19faf2",
   "metadata": {},
   "outputs": [
    {
     "name": "stdout",
     "output_type": "stream",
     "text": [
      "dimension is: 2\n"
     ]
    }
   ],
   "source": [
    "#7 Create a function array_dimension that takes a NumPy array as input and returns its dimensionality.\n",
    "\n",
    "import numpy as np\n",
    "\n",
    "arr=np.array([[4,5],[5,6]])\n",
    "\n",
    "def array_dimension(arr):\n",
    "    a=arr.ndim\n",
    "    return a\n",
    "print(\"dimension is:\",array_dimension(arr))"
   ]
  },
  {
   "cell_type": "code",
   "execution_count": 19,
   "id": "b2a918fd-50cf-443e-801c-bde636ea9701",
   "metadata": {},
   "outputs": [
    {
     "name": "stdout",
     "output_type": "stream",
     "text": [
      "here the item size and total size in bytes: (8, 56)\n"
     ]
    }
   ],
   "source": [
    "#8. Design a function item_size_info that takes a NumPy array as input and returns the item size and the total size in bytes.\n",
    "\n",
    "import numpy as np\n",
    "arr= np.array([4,5,6,7,8,9,10])\n",
    "def item_size_info(arr):\n",
    "    a= arr.itemsize\n",
    "    b= arr.nbytes\n",
    "    return a, b\n",
    "\n",
    "print(\"here the item size and total size in bytes:\",item_size_info(arr))"
   ]
  },
  {
   "cell_type": "code",
   "execution_count": 39,
   "id": "0f78f77a-dfa5-4055-8847-f7b2febbf648",
   "metadata": {},
   "outputs": [
    {
     "name": "stdout",
     "output_type": "stream",
     "text": [
      "strides of the array: (8,)\n"
     ]
    }
   ],
   "source": [
    "#9. Create a function array_strides that takes a NumPy array as input and returns the strides of the array.\n",
    "\n",
    "\n",
    "import numpy as np\n",
    "\n",
    "arr= np.arange(0,10)\n",
    "\n",
    "def array_strides(arr):\n",
    "    return arr.strides\n",
    "\n",
    "print(\"strides of the array:\",array_strides(arr))"
   ]
  },
  {
   "cell_type": "code",
   "execution_count": 42,
   "id": "1f844b78-8382-4a6c-8826-2e8aaa522aa8",
   "metadata": {},
   "outputs": [
    {
     "name": "stdout",
     "output_type": "stream",
     "text": [
      "size and strides: (10, (8,))\n"
     ]
    }
   ],
   "source": [
    "# 10. Design a function shape_stride_relationship that takes a NumPy array as input and returns the shape and strides of the array.\n",
    "\n",
    "import numpy as np\n",
    "\n",
    "\n",
    "arr=np.array([1,2,3,4,5,6,7,8,9,10])\n",
    "\n",
    "def function_shape_strides_relationship(arr):\n",
    "    a=arr.size\n",
    "    b=arr.strides\n",
    "    return a,b\n",
    "\n",
    "print(\"size and strides:\",function_shape_strides_relationship(arr))"
   ]
  },
  {
   "cell_type": "code",
   "execution_count": 57,
   "id": "90ff4ee6-c0ff-4e9a-b569-ac23cc665f3c",
   "metadata": {},
   "outputs": [
    {
     "name": "stdin",
     "output_type": "stream",
     "text": [
      "enter the number for create_zeros_array 10\n"
     ]
    },
    {
     "name": "stdout",
     "output_type": "stream",
     "text": [
      "[0. 0. 0. 0. 0. 0. 0. 0. 0. 0.]\n"
     ]
    }
   ],
   "source": [
    "#11. Create a function `create_zeros_array` that takes an integer `n` as input and returns a NumPy array of zeros with `n` elements.\n",
    "\n",
    "import numpy as np\n",
    "\n",
    "n=int(input(\"enter the number for create_zeros_array\"))\n",
    "\n",
    "def create_zeros_array(n):\n",
    "    return np.zeros(n)\n",
    "\n",
    "print(create_zeros_array(n))\n"
   ]
  },
  {
   "cell_type": "code",
   "execution_count": 6,
   "id": "1abae1b9-6c78-4042-9f10-6893a7933a2a",
   "metadata": {},
   "outputs": [
    {
     "name": "stdin",
     "output_type": "stream",
     "text": [
      "enter the number for row 5\n",
      "enter the number for columns 4\n"
     ]
    },
    {
     "name": "stdout",
     "output_type": "stream",
     "text": [
      "[[1. 1. 1. 1.]\n",
      " [1. 1. 1. 1.]\n",
      " [1. 1. 1. 1.]\n",
      " [1. 1. 1. 1.]\n",
      " [1. 1. 1. 1.]]\n"
     ]
    }
   ],
   "source": [
    "#### 12. Write a function `create_ones_matrix` that takes integers `rows` and `cols` as inputs and generates a 2D \n",
    "# NumPy array filled with ones of size `rows x cols`.\n",
    "\n",
    "import numpy as np\n",
    "row=int(input(\"enter the number for row\"))\n",
    "cols=int(input(\"enter the number for columns\"))\n",
    "\n",
    "def create_ones_matrix(row,cols):\n",
    "    return np.ones((row,cols))\n",
    "\n",
    "\n",
    "print(create_ones_matrix(row,cols))\n"
   ]
  },
  {
   "cell_type": "code",
   "execution_count": 11,
   "id": "bd9c4588-ac71-4823-bb1a-464de49becce",
   "metadata": {},
   "outputs": [
    {
     "name": "stdin",
     "output_type": "stream",
     "text": [
      "enter the start num 0\n",
      "enter the num where u want to stop 10\n",
      "enter the step num 2\n"
     ]
    },
    {
     "name": "stdout",
     "output_type": "stream",
     "text": [
      "[0 2 4 6 8]\n"
     ]
    }
   ],
   "source": [
    "# 13. Write a function `generate_range_array` that takes three integers start, stop, and step as arguments and \n",
    "#creates a NumPy array with a range starting from `start`, ending at stop (exclusive), and with the specified `step`.\n",
    "import numpy as np\n",
    "\n",
    "\n",
    "start=int(input(\"enter the start num\"))\n",
    "stop= int(input(\"enter the num where u want to stop\"))\n",
    "step=int(input(\"enter the step num\"))\n",
    "\n",
    "\n",
    "def generate_range_array(start,stop,step):\n",
    "    return np.arange(start,stop,step)\n",
    "\n",
    "print(generate_range_array(start,stop,step))\n",
    "    "
   ]
  },
  {
   "cell_type": "code",
   "execution_count": 28,
   "id": "26528a9c-a36a-45e7-8ab4-ee540cf94509",
   "metadata": {},
   "outputs": [
    {
     "name": "stdout",
     "output_type": "stream",
     "text": [
      "[ 0.     3.125  6.25   9.375 12.5  ]\n"
     ]
    }
   ],
   "source": [
    "#14. Design a function `generate_linear_space` that takes two floats `start`, `stop`, and an integer `num` as \n",
    "#arguments and generates a NumPy array with num equally spaced values between `start` and `stop` (inclusive).\n",
    "\n",
    "import numpy as np\n",
    "\n",
    "def generate_linear_space(start:float, stop:float, num:int):\n",
    "    return np.linspace(start, stop, num)\n",
    "\n",
    "print(generate_linear_space(0,12.5,5))"
   ]
  },
  {
   "cell_type": "code",
   "execution_count": 6,
   "id": "cb745fb0-6e2b-4f99-8a31-d050e7ae17e0",
   "metadata": {},
   "outputs": [
    {
     "name": "stdin",
     "output_type": "stream",
     "text": [
      "enter the number 5\n"
     ]
    },
    {
     "name": "stdout",
     "output_type": "stream",
     "text": [
      "[[1 0 0 0 0]\n",
      " [0 1 0 0 0]\n",
      " [0 0 1 0 0]\n",
      " [0 0 0 1 0]\n",
      " [0 0 0 0 1]]\n"
     ]
    }
   ],
   "source": [
    "# 15. Create a function `create_identity_matrix` that takes an integer `n` as input and generates a square \n",
    "#identity matrix of size `n x n` using `numpy.eye`\n",
    "\n",
    "import numpy as np\n",
    "\n",
    "n=int(input(\"enter the number\"))\n",
    "\n",
    "def create_identity_matrix(n):\n",
    "    return np.eye(n,n,dtype=int)\n",
    "\n",
    "print(create_identity_matrix(n))\n",
    "\n",
    "#insight- np.eye() Returns a 2-D array with ones on the diagonal and zeros elsewhere."
   ]
  },
  {
   "cell_type": "code",
   "execution_count": 16,
   "id": "76c67c31-83a3-49a6-9545-e7a8e251ee90",
   "metadata": {},
   "outputs": [
    {
     "name": "stdout",
     "output_type": "stream",
     "text": [
      "[ 4  5  6  7  8  9 10]\n"
     ]
    }
   ],
   "source": [
    "#16. Write a function that takes a Python list and converts it into a NumPy array.\n",
    "\n",
    "import numpy as np\n",
    "\n",
    "lis=[4,5,6,7,8,9,10]\n",
    "\n",
    "def lis_to_nump_arr(lis):\n",
    "    return np.array(lis)\n",
    "\n",
    "print(lis_to_nump_arr(lis))\n"
   ]
  },
  {
   "cell_type": "code",
   "execution_count": 8,
   "id": "7058c12d-d83a-4ccd-85fd-c2876abf3695",
   "metadata": {},
   "outputs": [
    {
     "name": "stdout",
     "output_type": "stream",
     "text": [
      "orginal data: [1 2 3 4 5]\n",
      "view array: [1 2 3 4 5]\n",
      "modified original data: [101   2   3   4   5]\n",
      "view array after original data modification: [101   2   3   4   5]\n"
     ]
    }
   ],
   "source": [
    "#17. Create a NumPy array and demonstrate the use of `numpy.view` to create a new array object with the same data.\n",
    "\n",
    "\n",
    "import numpy as np\n",
    "\n",
    "#original array\n",
    "org_array= np.array([1,2,3,4,5])\n",
    "\n",
    "print(\"orginal data:\", org_array)\n",
    "\n",
    "#use numpy.view()  to create a new object with same data\n",
    "view_array= org_array.view()\n",
    "\n",
    "print(\"view array:\", view_array)\n",
    "\n",
    "#let's modify the original data\n",
    "\n",
    "org_array[0] = 101\n",
    "\n",
    "print(\"modified original data:\",org_array)\n",
    "#view array will modified bc its shares the same data\n",
    "\n",
    "\n",
    "print(\"view array after original data modification:\",view_array)\n",
    "\n",
    "\n",
    "\n"
   ]
  },
  {
   "cell_type": "code",
   "execution_count": 64,
   "id": "8db421e8-f86e-460e-969d-b8abb2930960",
   "metadata": {},
   "outputs": [
    {
     "name": "stdout",
     "output_type": "stream",
     "text": [
      "[4 5 6 7 8 9]\n",
      "\n",
      "[[ 4  5  6 10 11]\n",
      " [ 7  8  9 12 13]]\n"
     ]
    }
   ],
   "source": [
    "#18. Write a function that takes two NumPy arrays and concatenates them along a specified axis.\n",
    "\n",
    "import numpy as np\n",
    "\n",
    "def concatenate_arrays(arr1, arr2, axis):\n",
    "        return np.concatenate((arr1, arr2), axis)\n",
    "\n",
    "arr1= np.array([4,5,6])\n",
    "arr2=np.array([7,8,9])\n",
    "\n",
    "\n",
    "#1d array\n",
    "print(concatenate_arrays(arr1,arr2, axis=0))\n",
    "#2d array with 1 axis\n",
    "\n",
    "\n",
    "arr1= np.array([[4,5,6],[7,8,9]])\n",
    "arr2=np.array([[10,11],[12,13]])\n",
    "print()\n",
    " \n",
    "print(concatenate_arrays(arr1, arr2, axis=1))\n"
   ]
  },
  {
   "cell_type": "code",
   "execution_count": 59,
   "id": "4fe06c6a-4214-4b3c-9a46-09fc167dadaa",
   "metadata": {},
   "outputs": [
    {
     "name": "stdout",
     "output_type": "stream",
     "text": [
      "[[3 3 5 5 5]\n",
      " [4 4 6 6 6]]\n"
     ]
    }
   ],
   "source": [
    "# 19.  Create two NumPy arrays with different shapes and concatenate them horizontally using `numpy. concatenate`.\n",
    "\n",
    "import numpy as np\n",
    "\n",
    "\n",
    "num1= np.array([[3,3],[4,4]])\n",
    "num2= np.array([[5,5,5],[6,6,6]])\n",
    "\n",
    "horizontally= np.concatenate((num1,num2), axis=1)\n",
    "\n",
    "print(horizontally)"
   ]
  },
  {
   "cell_type": "code",
   "execution_count": 15,
   "id": "09326003-e6d7-45e2-9961-cc6f1bf492d9",
   "metadata": {},
   "outputs": [
    {
     "name": "stdout",
     "output_type": "stream",
     "text": [
      "[[ 1  2  3  4  5]\n",
      " [ 6  7  8  9 10]\n",
      " [11 12 13 14 15]]\n"
     ]
    }
   ],
   "source": [
    "#20. Write a function that vertically stacks multiple NumPy arrays given as a list.\n",
    "\n",
    "import numpy as np\n",
    "\n",
    "def vertical_array(arrays):\n",
    "    return np.vstack(arrays)\n",
    "\n",
    "arrays=  [np.array([1,2,3,4,5]), np.array([6,7,8,9,10]), np.array([11,12,13,14,15])]\n",
    "\n",
    "\n",
    "\n",
    "\n",
    "print(vertical_array(arrays))\n",
    "\n",
    "\n",
    "\n"
   ]
  },
  {
   "cell_type": "code",
   "execution_count": 20,
   "id": "4622570f-71f5-437b-86ce-aba83553a607",
   "metadata": {},
   "outputs": [
    {
     "name": "stdout",
     "output_type": "stream",
     "text": [
      "[ 1  4  7 10 13 16 19]\n"
     ]
    }
   ],
   "source": [
    "# 21. Write a Python function using NumPy to create an array of integers within a specified range (inclusive) \n",
    "#with a given step size.\n",
    "\n",
    "\n",
    "import numpy as np\n",
    "\n",
    "\n",
    "def array_int(start, end, step):\n",
    "    return np.arange(start,end+1,step)\n",
    "\n",
    "\n",
    "\n",
    "print(array_int(1,20,3))"
   ]
  },
  {
   "cell_type": "code",
   "execution_count": 67,
   "id": "ebc19b36-441d-4cd1-a539-be03d0818572",
   "metadata": {},
   "outputs": [
    {
     "name": "stdout",
     "output_type": "stream",
     "text": [
      "[0.         0.11111111 0.22222222 0.33333333 0.44444444 0.55555556\n",
      " 0.66666667 0.77777778 0.88888889 1.        ]\n"
     ]
    }
   ],
   "source": [
    "#22. Write a Python function using NumPy to generate an array of 10 equally spaced values between 0 and 1 (inclusive).\n",
    "\n",
    "import numpy as np\n",
    "\n",
    "def generate_array():\n",
    "    return np.linspace(0,1,10)\n",
    "\n",
    "print(generate_array())"
   ]
  },
  {
   "cell_type": "code",
   "execution_count": 99,
   "id": "008f348a-755a-4fda-ab9a-bbc1e70d8de8",
   "metadata": {},
   "outputs": [
    {
     "name": "stdout",
     "output_type": "stream",
     "text": [
      "[  1.   5.  25. 125. 625.]\n"
     ]
    }
   ],
   "source": [
    "# 23. Write a Python function using NumPy to create an array of 5 logarithmically spaced values between 1 and 1000 (inclusive).\n",
    "\n",
    "import numpy as np\n",
    "\n",
    "def log_spaced_values(start, end, num_values):\n",
    "    return np.logspace(np.log10(start), np.log10(end)+1, num_values,base=5)\n",
    "        \n",
    "values=log_spaced_values(1,1000,5)\n",
    "\n",
    "print(values)\n",
    "\n",
    "\n",
    "\n"
   ]
  },
  {
   "cell_type": "code",
   "execution_count": 15,
   "id": "15f4034b-4c1d-4afd-aeda-1952e06255e0",
   "metadata": {},
   "outputs": [
    {
     "name": "stdout",
     "output_type": "stream",
     "text": [
      "   column1  column2  column3\n",
      "0       74       41       26\n",
      "1       98       72       40\n",
      "2       59        8       74\n",
      "3       13       52        6\n",
      "4       36       84       54\n"
     ]
    }
   ],
   "source": [
    "# 24. Create a Pandas DataFrame using a NumPy array that contains 5 rows and 3 columns, where the values \n",
    "# are random integers between 1 and 100.\n",
    "\n",
    "import pandas as pd\n",
    "import numpy as np\n",
    "\n",
    "\n",
    "arr=np.random.randint(1,100,(5,3))\n",
    "\n",
    "\n",
    "df= pd.DataFrame(arr, columns=['column1','column2','column3'])\n",
    "\n",
    "print(df)\n",
    "\n"
   ]
  },
  {
   "cell_type": "code",
   "execution_count": 37,
   "id": "d156d1c9-82f5-4e14-94ec-32f4600324df",
   "metadata": {},
   "outputs": [
    {
     "name": "stdout",
     "output_type": "stream",
     "text": [
      "   a   b\n",
      "0  1   7\n",
      "1  2  10\n",
      "2  3  20\n",
      "3 -4  30\n",
      "4 -8  40\n",
      "after modification\n",
      "   a   b\n",
      "0  1   7\n",
      "1  2  10\n",
      "2  3  20\n",
      "3  0  30\n",
      "4  0  40\n"
     ]
    }
   ],
   "source": [
    "#25. Write a function that takes a Pandas DataFrame and replaces all negative values in a specific column \n",
    "#with zeros. Use NumPy operations within the Pandas DataFrame.\n",
    "\n",
    "import pandas as pd\n",
    "import numpy as np\n",
    "\n",
    "def replace_neg_values(df, column1):\n",
    "    df[column1]= np.where(df[column1] <0,0, df[column1])\n",
    "    return df\n",
    "\n",
    "\n",
    "df=pd.DataFrame({'a':[1,2,3,-4,-8], 'b':[7,10,20,30,40]})\n",
    "print(df)\n",
    "print(\"after modification\")\n",
    "\n",
    "res= replace_neg_values(df, 'a')\n",
    "\n",
    "print(res)\n",
    "\n"
   ]
  },
  {
   "cell_type": "code",
   "execution_count": 41,
   "id": "2bd05301-0b8f-43ed-8de4-452252fb5477",
   "metadata": {},
   "outputs": [
    {
     "data": {
      "text/plain": [
       "30"
      ]
     },
     "execution_count": 41,
     "metadata": {},
     "output_type": "execute_result"
    }
   ],
   "source": [
    "#26. Access the 3rd element from the given NumPy array.\n",
    "\n",
    "import numpy as np\n",
    "arr = np.array([10, 20, 30, 40, 50])\n",
    "\n",
    "\n",
    "arr[2]"
   ]
  },
  {
   "cell_type": "code",
   "execution_count": 49,
   "id": "444f011c-d754-4fe3-a02e-59be3a85eaee",
   "metadata": {},
   "outputs": [
    {
     "name": "stdout",
     "output_type": "stream",
     "text": [
      "6\n"
     ]
    }
   ],
   "source": [
    "# 27. Retrieve the element at index (1, 2) from the 2D NumPy array.\n",
    "\n",
    "import numpy as np\n",
    "\n",
    "arr_2d = np.array([[1, 2, 3],[4, 5, 6],[7, 8, 9]])\n",
    "\n",
    "\n",
    "#element at index (1, 2)\n",
    "arr=arr_2d[1,2]\n",
    "print(arr)\n",
    "\n"
   ]
  },
  {
   "cell_type": "code",
   "execution_count": 70,
   "id": "c6c3afb3-52e9-47de-a426-2794e020088b",
   "metadata": {},
   "outputs": [
    {
     "name": "stdout",
     "output_type": "stream",
     "text": [
      "[ 8 10  7]\n",
      "\n",
      "[ 8 10  7]\n"
     ]
    }
   ],
   "source": [
    "#28. Using boolean indexing, extract elements greater than 5 from the given NumPy array.\n",
    "\n",
    "import numpy as np\n",
    "arr = np.array([3, 8, 2, 10, 5, 7])\n",
    "\n",
    "arr[0]=3.0\n",
    "arr\n",
    "\n",
    "res=np.extract(arr > 5 ,arr)\n",
    "\n",
    "print(res)\n",
    "print()\n",
    "#another method to extract\n",
    "\n",
    "res1= arr[arr>5]\n",
    "\n",
    "print(res1)"
   ]
  },
  {
   "cell_type": "code",
   "execution_count": 71,
   "id": "249f7f2b-9576-4440-987a-81dc558bfb85",
   "metadata": {},
   "outputs": [
    {
     "name": "stdout",
     "output_type": "stream",
     "text": [
      "[3 4 5 6]\n"
     ]
    }
   ],
   "source": [
    "#29 Perform basic slicing to extract elements from index 2 to 5 (inclusive) from the given NumPy array.\n",
    "\n",
    "import numpy as np\n",
    "\n",
    "arr = np.array([1, 2, 3, 4, 5, 6, 7, 8, 9])\n",
    "\n",
    "\n",
    "slicing= arr[2:6]\n",
    "print(slicing)\n"
   ]
  },
  {
   "cell_type": "code",
   "execution_count": 97,
   "id": "dbf821ef-bd61-45cd-b5ab-07dba9d5e9c4",
   "metadata": {},
   "outputs": [
    {
     "name": "stdout",
     "output_type": "stream",
     "text": [
      "[[1 2 3]\n",
      " [4 5 6]\n",
      " [7 8 9]]\n",
      "\n",
      "below the sub array \n",
      "[[2 3]\n",
      " [5 6]]\n"
     ]
    }
   ],
   "source": [
    "# 30. Slice the 2D NumPy array to extract the sub-array `[[2, 3], [5, 6]]` from the given array.\n",
    "\n",
    "import numpy as np\n",
    "arr_2d = np.array([[1, 2, 3],[4, 5, 6],[7, 8, 9]])\n",
    "print(arr_2d)\n",
    "\n",
    "print()\n",
    "\n",
    "print(\"below the sub array \")\n",
    "sub_array=arr_2d[0:2,1:3]\n",
    "\n",
    "#second method for the same\n",
    "sub_array=arr_2d[0:2,[1,2]]\n",
    "\n",
    "\n",
    "\n",
    "print(sub_array)"
   ]
  },
  {
   "cell_type": "code",
   "execution_count": 118,
   "id": "21b4f19f-37a4-4305-92c1-261358469313",
   "metadata": {},
   "outputs": [
    {
     "name": "stdout",
     "output_type": "stream",
     "text": [
      "(1, 5, 9)\n"
     ]
    }
   ],
   "source": [
    "#31.Write a NumPy function to extract elements in specific order from a given 2D array based on indices provided in another array.\n",
    "\n",
    "import numpy as np\n",
    "\n",
    "arr=np.array([[1,2,3],[4,5,6],[7,8,9]])\n",
    "\n",
    "\n",
    "\n",
    "\n",
    "def extract_ele(arr, indices):\n",
    "    a=arr[0,0]\n",
    "    b=arr[1,1]\n",
    "    c=arr[2,2]\n",
    "    return a,b,c\n",
    "\n",
    "\n",
    "res=extract_ele(arr, indices)\n",
    "\n",
    "print(res)"
   ]
  },
  {
   "cell_type": "code",
   "execution_count": 126,
   "id": "7f1dc83e-e00e-49b4-9bf3-4c646cf8540d",
   "metadata": {},
   "outputs": [
    {
     "name": "stdout",
     "output_type": "stream",
     "text": [
      "[ 6  7  8  9 10 11]\n"
     ]
    }
   ],
   "source": [
    "#32.Create a NumPy function that filters elements greater than a threshold from a given 1D array using boolean indexing.\n",
    "\n",
    "import numpy as np\n",
    "\n",
    "arr=np.array([1,2,3,4,5,6,7,8,9,10,11])\n",
    "threshold= 5\n",
    "\n",
    "def filter_ele(arr, threshold):\n",
    "    return arr[arr > threshold]\n",
    "\n",
    "res=filter_ele(arr,threshold)\n",
    "\n",
    "print(res)"
   ]
  },
  {
   "cell_type": "code",
   "execution_count": 133,
   "id": "87e56213-0733-4cd4-9d95-e84327e97285",
   "metadata": {},
   "outputs": [
    {
     "name": "stdout",
     "output_type": "stream",
     "text": [
      "(6, 16, 22)\n"
     ]
    }
   ],
   "source": [
    "#33.Develop a NumPy function that extracts specific elements from a 3D array using indices provided in three \n",
    "#separate arrays for each dimension.\n",
    "\n",
    "\n",
    "import numpy as np\n",
    "\n",
    "arr=np.array([[[1,2,3],[4,5,6],[7,8,9]],\n",
    "               [[10,11,12],[13,14,15],[16,17,18]],\n",
    "               [[19,20,21],[22,23,24],[25,26,27]]])\n",
    "\n",
    "def sep_array(arr):\n",
    "    ind1=arr[0,1,2]\n",
    "    ind2=arr[1,2,0]\n",
    "    ind3=arr[2,1,0]\n",
    "    return ind1,ind2,ind3\n",
    "\n",
    "res=sep_array(arr)\n",
    "print(res)"
   ]
  },
  {
   "cell_type": "code",
   "execution_count": 147,
   "id": "c74ee3f8-c1a0-415d-9d01-d086a44026a2",
   "metadata": {},
   "outputs": [
    {
     "name": "stdout",
     "output_type": "stream",
     "text": [
      "[ 5  6  7  8  9 10 11]\n"
     ]
    }
   ],
   "source": [
    "# 34.Write a NumPy function that returns elements from an array where both two conditions are satisfied using boolean indexing.\n",
    "import numpy as np\n",
    "\n",
    "arr=np.array([1,2,3,4,5,6,7,8,9,10,11,12,13,15])\n",
    "\n",
    "def numpy_fun(arr, condition1, condition2):\n",
    "    return arr[condition1 & condition2]\n",
    "\n",
    "\n",
    "\n",
    "condition1= arr > 4\n",
    "condition2= arr < 12\n",
    "\n",
    "res= numpy_fun(arr, condition1, condition2)\n",
    "print(res)"
   ]
  },
  {
   "cell_type": "code",
   "execution_count": 64,
   "id": "1be2e560-6cf4-429b-aa35-8c44b54a3a01",
   "metadata": {},
   "outputs": [
    {
     "name": "stdout",
     "output_type": "stream",
     "text": [
      "[2 7]\n"
     ]
    }
   ],
   "source": [
    "# 35. Create a NumPy function that extracts elements from a 2D array using row and column indices provided in separate arrays.\n",
    "\n",
    "import numpy as np\n",
    "\n",
    "def arr_indices(arr, row_num,col_num):\n",
    "    return arr[row_num,col_num]\n",
    "\n",
    "arr=np.array([[1,2,3],\n",
    "              [4,5,6],\n",
    "              [7,8,9]])\n",
    "\n",
    "row_num= np.array([0,2])\n",
    "col_num=np.array([1,0])\n",
    "\n",
    "newarray= arr_indices(arr, row_num,col_num)\n",
    "\n",
    "print(newarray)-+\n"
   ]
  },
  {
   "cell_type": "code",
   "execution_count": 183,
   "id": "2d285cee-0409-472a-b4b1-b5a7a72e7ebf",
   "metadata": {},
   "outputs": [
    {
     "name": "stdout",
     "output_type": "stream",
     "text": [
      "[[3 9 1]\n",
      " [7 9 7]\n",
      " [7 6 3]]\n",
      "\n",
      "add a scalar value of 5 to each element using NumPy broadcasting:\n",
      "[[ 8 14  6]\n",
      " [12 14 12]\n",
      " [12 11  8]]\n"
     ]
    }
   ],
   "source": [
    "#36. Given an array arr of shape (3, 3), add a scalar value of 5 to each element using NumPy broadcasting.\n",
    "\n",
    "import numpy as np\n",
    "\n",
    "arr=np.random.randint(1,10,(3,3))\n",
    "\n",
    "print(arr)\n",
    "\n",
    "print()\n",
    "print(\"add a scalar value of 5 to each element using NumPy broadcasting:\")\n",
    "\n",
    "a= arr + 5\n",
    "print(a)\n"
   ]
  },
  {
   "cell_type": "code",
   "execution_count": 6,
   "id": "ae23b81e-b263-479c-bcea-610996ce5e1e",
   "metadata": {},
   "outputs": [
    {
     "name": "stdout",
     "output_type": "stream",
     "text": [
      "[[[ 4  5  6  7]\n",
      "  [16 18 20 22]\n",
      "  [36 39 42 45]]]\n"
     ]
    }
   ],
   "source": [
    "# 37.Consider two arrays arr1 of shape (1, 3) and arr2 of shape (3, 4). Multiply each row of arr2 by the \n",
    "#corresponding element in arr1 using NumPy broadcasting.\n",
    "\n",
    "import numpy as np\n",
    "\n",
    "arr1=np.array([[1,2,3]]) # shape(1,3)\n",
    "arr2=np.array([[4,5,6,7],[8,9,10,11],[12,13,14,15]])  #shpae(3,4)\n",
    "\n",
    "res= arr2 * arr1[:,:,np.newaxis]\n",
    "print(res)\n",
    "\n"
   ]
  },
  {
   "cell_type": "code",
   "execution_count": 2,
   "id": "a4b2d42f-c7b8-4dc1-a161-238533b1d623",
   "metadata": {},
   "outputs": [
    {
     "name": "stdout",
     "output_type": "stream",
     "text": [
      "[[ 5  6  7]\n",
      " [ 9 10 11]\n",
      " [13 14 15]\n",
      " [17 18 19]]\n"
     ]
    }
   ],
   "source": [
    "#38.Given a 1D array arr1 of shape (1, 4) and a 2D array arr2 of shape (4, 3), add arr1 to each row of arr2 using NumPy broadcasting.\n",
    "\n",
    "import numpy as np\n",
    "\n",
    "arr1= np.array([1,2,3,4])\n",
    "arr2=np.array([[4,5,6],[7,8,9],[10,11,12],[13,14,15]])\n",
    "\n",
    "res= arr2 +arr1[:,np.newaxis]\n",
    "\n",
    "print(res)"
   ]
  },
  {
   "cell_type": "code",
   "execution_count": 213,
   "id": "3533a703-0d03-4ea8-9245-6f22afd79456",
   "metadata": {},
   "outputs": [
    {
     "data": {
      "text/plain": [
       "array([[5, 6, 7],\n",
       "       [6, 7, 8],\n",
       "       [7, 8, 9]])"
      ]
     },
     "execution_count": 213,
     "metadata": {},
     "output_type": "execute_result"
    }
   ],
   "source": [
    "#39.Consider two arrays arr1 of shape (3, 1) and arr2 of shape (1, 3). Add these arrays using NumPy broadcasting.\n",
    "import numpy as np\n",
    "\n",
    "arr1=np.array([[1],[2],[3]])  #shape(3,1)\n",
    "arr2=np.array([4,5,6])         #shape(1,3)\n",
    "\n",
    "\n",
    "arr1 +arr2"
   ]
  },
  {
   "cell_type": "code",
   "execution_count": 1,
   "id": "27d96b18-25f5-4d0f-bf77-bd5dedd3fbdf",
   "metadata": {},
   "outputs": [
    {
     "name": "stdout",
     "output_type": "stream",
     "text": [
      "[[[ 7 14 21]\n",
      "  [32 40 48]]\n",
      "\n",
      " [[ 9 18 27]\n",
      "  [40 50 60]]]\n"
     ]
    }
   ],
   "source": [
    "#40.Given arrays arr1 of shape (2, 3) and arr2 of shape (2, 2), perform multiplication using NumPy \n",
    "# broadcasting. Handle the shape incompatibility.\n",
    "\n",
    "import numpy as np\n",
    "\n",
    "arr1= np.array([[1,2,3],[4,5,6]])\n",
    "arr2=np.array([[7,8],[9,10]])\n",
    "\n",
    "arr2=arr2.reshape(2,2,1)    #now shape is become 2,2,1\n",
    "\n",
    "res= arr1 * arr2\n",
    "\n",
    "print(res)\n",
    "\n"
   ]
  },
  {
   "cell_type": "code",
   "execution_count": 226,
   "id": "8e27674c-10cc-43db-ad48-13430ba0e655",
   "metadata": {},
   "outputs": [
    {
     "name": "stdout",
     "output_type": "stream",
     "text": [
      "[2.5 3.5 4.5]\n"
     ]
    }
   ],
   "source": [
    "#41. Calculate column-wise mean for the given array:\n",
    "\n",
    "import numpy as np\n",
    "\n",
    "arr = np.array([[1, 2, 3], [4, 5, 6]])\n",
    "\n",
    "\n",
    "a=np.mean(arr, axis=0)\n",
    "print(a)"
   ]
  },
  {
   "cell_type": "code",
   "execution_count": 227,
   "id": "1e30bfb7-e1a4-491b-8bb1-eb64be50b809",
   "metadata": {},
   "outputs": [
    {
     "data": {
      "text/plain": [
       "array([3, 6])"
      ]
     },
     "execution_count": 227,
     "metadata": {},
     "output_type": "execute_result"
    }
   ],
   "source": [
    "#42. Find maximum value in each row of the given array:\n",
    "\n",
    "import numpy as np\n",
    "\n",
    "arr = np.array([[1, 2, 3], [4, 5, 6]])\n",
    "\n",
    "np.max(arr,axis=1)"
   ]
  },
  {
   "cell_type": "code",
   "execution_count": 8,
   "id": "d1f1fedd-e253-4625-b40b-6c73fc5b8695",
   "metadata": {},
   "outputs": [
    {
     "data": {
      "text/plain": [
       "array([4, 5, 6])"
      ]
     },
     "execution_count": 8,
     "metadata": {},
     "output_type": "execute_result"
    }
   ],
   "source": [
    "#43. For the given array, find indices of maximum value in each column.\n",
    "\n",
    "import numpy as np\n",
    "\n",
    "arr = np.array([[1, 2, 3], [4, 5, 6]])\n",
    "\n",
    "np.max(arr,axis=0)"
   ]
  },
  {
   "cell_type": "code",
   "execution_count": 86,
   "id": "a9467619-569d-4c02-a1b2-b9b513531da3",
   "metadata": {},
   "outputs": [
    {
     "name": "stdout",
     "output_type": "stream",
     "text": [
      "[[ 3  5]\n",
      " [ 9 11]]\n"
     ]
    }
   ],
   "source": [
    "#44. For the given array, apply custom function to calculate moving sum along rows.\n",
    "\n",
    "import numpy as np\n",
    "\n",
    "\n",
    "arr = np.array([[1, 2, 3], [4, 5, 6]])\n",
    "\n",
    "def moving_sum(arr):\n",
    "    result=[]\n",
    "    for j in arr:\n",
    "        res=[]\n",
    "        for i in range(len(j)-1):\n",
    "            sum_row=sum(j[i:i+2])\n",
    "            res.append(sum_row)\n",
    "        result.append(res)\n",
    "    return np.array(result)\n",
    "\n",
    "print(moving_sum(arr))\n",
    "\n",
    "\n",
    "\n"
   ]
  },
  {
   "cell_type": "code",
   "execution_count": 38,
   "id": "7dbee14a-dab4-4025-bfa8-de791a482db2",
   "metadata": {},
   "outputs": [
    {
     "name": "stdout",
     "output_type": "stream",
     "text": [
      "even elements:\n",
      "[2 4 6]\n"
     ]
    }
   ],
   "source": [
    "# 45. In the given array, check if all elements in each column are even.\n",
    "\n",
    "import numpy as np\n",
    "\n",
    "arr = np.array([[2, 4, 6], [3, 5, 7]])\n",
    "\n",
    "\n",
    "\n",
    "print(\"even elements:\")\n",
    "even=arr[arr %2==0]\n",
    "print(even)\n",
    "\n"
   ]
  },
  {
   "cell_type": "code",
   "execution_count": 54,
   "id": "f5ad9ad6-1d07-416a-b16e-95de3c296600",
   "metadata": {},
   "outputs": [
    {
     "name": "stdout",
     "output_type": "stream",
     "text": [
      "[[1 2 3]\n",
      " [4 5 6]]\n"
     ]
    }
   ],
   "source": [
    "#46. Given a NumPy array arr, reshape it into a matrix of dimensions `m` rows and `n` columns. Return the reshaped matrix.\n",
    "\n",
    "import numpy as np\n",
    "\n",
    "original_array = np.array([1, 2, 3, 4, 5, 6])\n",
    "\n",
    "def reshape_array(original_array, m,n):\n",
    "    return original_array.reshape((m,n))\n",
    "\n",
    "m=2\n",
    "n=3\n",
    "reshape=reshape_array(original_array, m,n)\n",
    "print(reshape)\n",
    "\n",
    "\n",
    "\n"
   ]
  },
  {
   "cell_type": "code",
   "execution_count": 76,
   "id": "e9a14e0d-0635-46ae-b349-ba1a64dd044c",
   "metadata": {},
   "outputs": [
    {
     "name": "stdout",
     "output_type": "stream",
     "text": [
      "[1 2 3 4 5 6]\n"
     ]
    }
   ],
   "source": [
    "#47. Create a function that takes a matrix as input and returns the flattened array.\n",
    " \n",
    "\n",
    "import numpy as np\n",
    "\n",
    "input_matrix = np.array([[1, 2, 3], [4, 5, 6]])\n",
    "\n",
    "def mat_arr(input_matrix):\n",
    "    return input_matrix.flatten()\n",
    "\n",
    "flatten=mat_arr(input_matrix)\n",
    "\n",
    "print(flatten)"
   ]
  },
  {
   "cell_type": "code",
   "execution_count": 91,
   "id": "3f965879-0e06-4f66-9937-06541cd84ba1",
   "metadata": {},
   "outputs": [
    {
     "name": "stdout",
     "output_type": "stream",
     "text": [
      "[[1 2 5 6]\n",
      " [3 4 7 8]]\n"
     ]
    }
   ],
   "source": [
    "#48. Write a function that concatenates two given arrays along a specified axis.\n",
    "\n",
    "import numpy as np\n",
    "\n",
    "array1 = np.array([[1, 2], [3, 4]])\n",
    "array2 = np.array([[5, 6], [7, 8]])\n",
    "\n",
    "\n",
    "def concatenates_func(array1, array2):\n",
    "    return np.concatenate((array1,array2), axis=1)\n",
    "\n",
    "res= concatenates_func(array1, array2)\n",
    "\n",
    "print(res)"
   ]
  },
  {
   "cell_type": "code",
   "execution_count": 103,
   "id": "661e2c58-3aec-4e90-921f-bfc4a2fa16fb",
   "metadata": {},
   "outputs": [
    {
     "name": "stdout",
     "output_type": "stream",
     "text": [
      "[array([[1, 2, 3]]), array([[4, 5, 6]]), array([[7, 8, 9]])]\n"
     ]
    }
   ],
   "source": [
    "#49.Create a function that splits an array into multiple sub-arrays along a specified axis.\n",
    "\n",
    "import numpy as np\n",
    "\n",
    "\n",
    "original_array = np.array([[1, 2, 3], [4, 5, 6], [7, 8, 9]])\n",
    "\n",
    "def split_func(original_array):\n",
    "    return np.split(original_array, 3, axis=0)\n",
    "\n",
    "\n",
    "res=split_func(original_array)\n",
    "print(res)"
   ]
  },
  {
   "cell_type": "code",
   "execution_count": 108,
   "id": "15f03dbc-70cf-4aab-aa92-801e8304d142",
   "metadata": {},
   "outputs": [
    {
     "name": "stdout",
     "output_type": "stream",
     "text": [
      "[ 1 10 11  4  5]\n"
     ]
    }
   ],
   "source": [
    "#50. Write a function that inserts and then deletes elements from a given array at specified indices.\n",
    " \n",
    "import numpy as np\n",
    "\n",
    "\n",
    "original_array = np.array([1, 2, 3, 4, 5])\n",
    "indices_to_insert = [2, 4]\n",
    "values_to_insert = [10, 11]\n",
    "indices_to_delete = [1, 3]\n",
    "\n",
    "def insert_delete_elements(array, indices_to_insert, values_to_insert, indices_to_delete):\n",
    "   \n",
    "    # Convert the input array to a list for easier manipulation\n",
    "    array_list = array.tolist()\n",
    "\n",
    "    # Insert elements at specified indices\n",
    "    for idx, val in zip(indices_to_insert, values_to_insert):\n",
    "        array_list.insert(idx, val)\n",
    "\n",
    "    # Delete elements at specified indices\n",
    "    for idx in sorted(indices_to_delete, reverse=True):\n",
    "        del array_list[idx]\n",
    "\n",
    "    # Convert the list back to a NumPy array\n",
    "    modified_array = np.array(array_list)\n",
    "\n",
    "    return modified_array\n",
    "\n",
    "\n",
    "modified_array = insert_delete_elements( original_array,indices_to_insert, values_to_insert, indices_to_delete)\n",
    "print(modified_array)\n"
   ]
  },
  {
   "cell_type": "code",
   "execution_count": 17,
   "id": "4a8f28f1-608d-49b0-aa81-6aa9823b6cba",
   "metadata": {},
   "outputs": [
    {
     "name": "stdout",
     "output_type": "stream",
     "text": [
      "[5 3 7 5 1 4 7 5 9 4]\n"
     ]
    },
    {
     "data": {
      "text/plain": [
       "array([ 6,  5, 10,  9,  6, 10, 14, 13, 18, 14])"
      ]
     },
     "execution_count": 17,
     "metadata": {},
     "output_type": "execute_result"
    }
   ],
   "source": [
    "#51.Create a NumPy array `arr1` with random integers and another array `arr2` with integers from 1 to 10. \n",
    "#Perform element-wise addition between `arr1` and `arr2`.\n",
    "\n",
    "import numpy as np\n",
    "\n",
    "arr1=np.random.randint(1,10,(10))\n",
    "print(arr1)\n",
    "arr2=np.array([1,2,3,4,5,6,7,8,9,10])\n",
    "\n",
    "arr1 +arr2"
   ]
  },
  {
   "cell_type": "code",
   "execution_count": 20,
   "id": "6ea65dc2-413d-4e1f-a68d-cfe458c96a43",
   "metadata": {},
   "outputs": [
    {
     "data": {
      "text/plain": [
       "array([-9, -7, -5, -3, -1,  1,  3,  5,  7,  9])"
      ]
     },
     "execution_count": 20,
     "metadata": {},
     "output_type": "execute_result"
    }
   ],
   "source": [
    "#52 Generate a NumPy array `arr1` with sequential integers from 10 to 1 and another array `arr2` with integers \n",
    "#from 1 to 10. Subtract `arr2` from `arr1` element-wise.\n",
    "\n",
    "\n",
    "import numpy as np\n",
    "\n",
    "arr1=np.array([10,9,8,7,6,5,4,3,2,1])\n",
    "arr2=np.array([1,2,3,4,5,6,7,8,9,10])\n",
    "\n",
    "arr2 - arr1"
   ]
  },
  {
   "cell_type": "code",
   "execution_count": 22,
   "id": "7a79d0c1-3692-4580-9f8c-16ed26d94472",
   "metadata": {},
   "outputs": [
    {
     "name": "stdout",
     "output_type": "stream",
     "text": [
      "[1 4 2 1 4]\n",
      "\n"
     ]
    },
    {
     "data": {
      "text/plain": [
       "array([ 1,  8,  6,  4, 20])"
      ]
     },
     "execution_count": 22,
     "metadata": {},
     "output_type": "execute_result"
    }
   ],
   "source": [
    "# 53. Create a NumPy array `arr1` with random integers and another array `arr2` with integers from 1 to 5. \n",
    "#Perform element-wise multiplication between `arr1` and `arr2`.\n",
    "\n",
    "\n",
    "import numpy as np\n",
    "\n",
    "arr1=np.random.randint(1,5,5)\n",
    "print(arr1)\n",
    "print()\n",
    "\n",
    "arr2=np.array([1,2,3,4,5])\n",
    "\n",
    "arr1 *arr2\n"
   ]
  },
  {
   "cell_type": "code",
   "execution_count": 27,
   "id": "83d48502-eae9-4693-8bf4-d96a8ed143a4",
   "metadata": {},
   "outputs": [
    {
     "data": {
      "text/plain": [
       "array([2., 2., 2., 2., 2.])"
      ]
     },
     "execution_count": 27,
     "metadata": {},
     "output_type": "execute_result"
    }
   ],
   "source": [
    "#54. Generate a NumPy array `arr1` with even integers from 2 to 10 and another array `arr2` with integers from 1 \n",
    "#to 5. Perform element-wise division of `arr1` by `arr2`\n",
    "\n",
    "import numpy as np\n",
    "\n",
    "arr1=np.array([2,4,6,8,10])\n",
    "\n",
    "arr2= np.array([1,2,3,4,5])\n",
    "\n",
    "\n",
    "arr1 / arr2"
   ]
  },
  {
   "cell_type": "code",
   "execution_count": 31,
   "id": "5fe6e95d-7056-469e-9b41-9bcc21a18961",
   "metadata": {},
   "outputs": [
    {
     "name": "stdout",
     "output_type": "stream",
     "text": [
      "arr1: [1 2 3 4 5]\n",
      "arr2 [5 4 3 2 1]\n",
      "exp_power: [ 1 16 27 16  5]\n"
     ]
    }
   ],
   "source": [
    "#55.Create a NumPy array `arr1` with integers from 1 to 5 and another array `arr2` with the same numbers \n",
    "#reversed. Calculate the exponentiation of `arr1` raised to the power of `arr2` element-wise.\n",
    "\n",
    "\n",
    "import numpy as np\n",
    "\n",
    "arr1= np.array([1,2,3,4,5])\n",
    "arr2=np.array([5,4,3,2,1])\n",
    "\n",
    "exp_power=np.power(arr1,arr2)\n",
    "\n",
    "print(\"arr1:\",arr1)\n",
    "print(\"arr2\",arr2)\n",
    "print(\"exp_power:\", exp_power)\n"
   ]
  },
  {
   "cell_type": "code",
   "execution_count": 37,
   "id": "b8fa1a1d-442e-4c7e-974e-0eccad8a2cc1",
   "metadata": {},
   "outputs": [
    {
     "name": "stdout",
     "output_type": "stream",
     "text": [
      "hello:  3\n",
      "world: 1\n"
     ]
    }
   ],
   "source": [
    "#56. Write a function that counts the occurrences of a specific substring within a NumPy array of strings.\n",
    "\n",
    "import numpy as np\n",
    "\n",
    "arr = np.array(['hello', 'world', 'hello', 'numpy', 'hello'])\n",
    "\n",
    "\n",
    "def count_sub_array(arr, substring):\n",
    "    \n",
    "    list_arr=arr.tolist()  # convert into list\n",
    "    count=0\n",
    "    for i in list_arr:\n",
    "        if substring in i:\n",
    "            count+=1\n",
    "    return count\n",
    "\n",
    "hello_substring=  count_sub_array(arr, \"hello\")\n",
    "\n",
    "print(\"hello: \" ,hello_substring)\n",
    "\n",
    "world_substring=count_sub_array(arr, \"world\")\n",
    "    \n",
    "print(\"world:\", world_substring)\n",
    "\n",
    "    "
   ]
  },
  {
   "cell_type": "code",
   "execution_count": 43,
   "id": "c647c7bb-392b-4e1a-8d4c-864ed8d15126",
   "metadata": {},
   "outputs": [
    {
     "name": "stdout",
     "output_type": "stream",
     "text": [
      "['HELLO' 'WORLD' 'OPENAI' 'GPT']\n"
     ]
    }
   ],
   "source": [
    "#57.Write a function that extracts uppercase characters from a NumPy array of strings.\n",
    "\n",
    "\n",
    "import numpy as np\n",
    "\n",
    "arr = np.array(['Hello', 'World', 'OpenAI', 'GPT'])\n",
    "\n",
    "\n",
    "\n",
    "def uppercase_char(arr):\n",
    "    return np.char.upper(arr)\n",
    "\n",
    "uppercase=uppercase_char(arr)\n",
    "print(uppercase)\n"
   ]
  },
  {
   "cell_type": "code",
   "execution_count": 84,
   "id": "43b14b5e-a6ce-40dc-9127-28bc0b9be636",
   "metadata": {},
   "outputs": [
    {
     "name": "stdout",
     "output_type": "stream",
     "text": [
      "['apple pieces' 'banana pieces' 'grape pieces' 'pineapple pieces']\n"
     ]
    }
   ],
   "source": [
    "#58. Write a function that replaces occurrences of a substring in a NumPy array of strings with a new string.\n",
    "\n",
    "\n",
    "import numpy as np\n",
    "\n",
    "\n",
    "\n",
    "def replace_substring(strings, old_substring, new_substring):\n",
    "    strings= np.asarray(strings, dtype=str)\n",
    "    replace_func=np.vectorize(lambda x : x.replace(old_substring, new_substring))\n",
    "    return replace_func(strings)\n",
    "\n",
    "strings = np.array(['apple box', 'banana box', 'grape box', 'pineapple box'])\n",
    "new_string= replace_substring(strings, \"box\",\"pieces\" )\n",
    "\n",
    "print(new_string)\n"
   ]
  },
  {
   "cell_type": "code",
   "execution_count": 51,
   "id": "b8a0cdc3-fe70-4eac-9a33-b3f7dfa72883",
   "metadata": {},
   "outputs": [
    {
     "name": "stdout",
     "output_type": "stream",
     "text": [
      "['Hello' 'World' 'Open' 'AI']\n"
     ]
    }
   ],
   "source": [
    "# 59. Write a function that concatenates strings in a NumPy array element-wise.\n",
    " \n",
    "import numpy as np\n",
    "\n",
    "arr1 = np.array(['Hello', 'World'])\n",
    "arr2 = np.array(['Open', 'AI'])\n",
    "\n",
    "def concatenates(arr1,arr2):\n",
    "    return np.concatenate((arr1,arr2), axis=0)\n",
    "\n",
    "\n",
    "res= concatenates(arr1,arr2)\n",
    "print(res)"
   ]
  },
  {
   "cell_type": "code",
   "execution_count": 72,
   "id": "2e9a7b0b-3656-4167-94b2-1544c36d5cf5",
   "metadata": {},
   "outputs": [
    {
     "name": "stdout",
     "output_type": "stream",
     "text": [
      "length of the longest string is: 9\n"
     ]
    }
   ],
   "source": [
    "#60.Write a function that finds the length of the longest string in a NumPy array.\n",
    "\n",
    "import numpy as np\n",
    "\n",
    "\n",
    "\n",
    "arr = np.array(['apple', 'banana', 'grape', 'pineapple'])\n",
    "\n",
    "\n",
    "def longest_str_lenth(array):\n",
    "    \n",
    "    array=np.asarray(array, dtype=str)\n",
    "    string_len=np.vectorize(len)(array)\n",
    "    return np.max(string_len)\n",
    "\n",
    "strings = np.array(['apple', 'banana', 'grape', 'pineapple'])\n",
    "\n",
    "\n",
    "longest_len= longest_str_lenth(strings)\n",
    "print(\"length of the longest string is:\", longest_len)"
   ]
  },
  {
   "cell_type": "code",
   "execution_count": 17,
   "id": "0c2e7373-0318-41c3-b3a2-7c57e39696c8",
   "metadata": {},
   "outputs": [
    {
     "name": "stdout",
     "output_type": "stream",
     "text": [
      "[473 113 685 838 656 317 165 507 140 216 713 252 896  50 481  27 914  80\n",
      " 468 844 506 542 120 693 138 509 551 306 607 856 302 810 950 600 237 584\n",
      " 283  13 728 745 734 316  30 396 165 635 588 670 362  82 627 757 372 473\n",
      " 304 463 371 380 850 435 149 875 568 118 619 737 540 593 975 469 755 778\n",
      " 103 527 484 784 873 750 372 226 777 100 910 672 807 973 422 444 239 119\n",
      " 994 746 690 885 977 520 341 926 197 645]\n",
      "\n",
      "mean: 516.04\n",
      "median: 523.5\n",
      "variance: 75098.29839999999\n",
      "standard daviation: 274.0406874900149\n"
     ]
    }
   ],
   "source": [
    "#61. Create a dataset of 100 random integers between 1 and 1000. Compute the mean, median, variance, and \n",
    "#standard deviation of the dataset using NumPy's functions.\n",
    "\n",
    "import numpy as np\n",
    "\n",
    "\n",
    "data= np.random.randint(1,1001,100)\n",
    "\n",
    "print(data)\n",
    "print()\n",
    "mean=np.mean(data)\n",
    "print(\"mean:\",mean)\n",
    "\n",
    "median= np.median(data)\n",
    "print(\"median:\", median)\n",
    "\n",
    "variance= np.var(data)\n",
    "print(\"variance:\", variance)\n",
    "\n",
    "std=np.std(data)\n",
    "print(\"standard daviation:\", std)\n"
   ]
  },
  {
   "cell_type": "code",
   "execution_count": 16,
   "id": "5610f0ac-c36d-4af3-adc4-66bc2d3d51f1",
   "metadata": {},
   "outputs": [
    {
     "name": "stdout",
     "output_type": "stream",
     "text": [
      "[ 9 63 25 57 70 42 92  4 45 90 41 35 13 56 59 57 53 40 59 37 89 87  7 99\n",
      " 51 96 41 64 67 11 54 62 30 87 85 20  1  7 91 43 93 32 72 17 27  7 62 15\n",
      " 57 40]\n",
      "\n",
      "25th percentile: 27.75\n",
      "75th percentile: 66.25\n"
     ]
    }
   ],
   "source": [
    "#62. Generate an array of 50 random numbers between 1 and 100. Find the 25th and 75th percentiles of the dataset.\n",
    "\n",
    "import numpy as np\n",
    "\n",
    "arr= np.random.randint(1,101,50)\n",
    "print(arr)\n",
    "print()\n",
    "\n",
    "percentiles= np.percentile(arr,[25,75])\n",
    "\n",
    "print('25th percentile:', percentiles[0])\n",
    "print('75th percentile:',percentiles[1])"
   ]
  },
  {
   "cell_type": "code",
   "execution_count": 25,
   "id": "b29011ae-a443-438d-a1d9-601a8ddca01f",
   "metadata": {},
   "outputs": [
    {
     "name": "stdout",
     "output_type": "stream",
     "text": [
      "correlation coefficien: 0.8712892542803548\n"
     ]
    }
   ],
   "source": [
    "#63.Create two arrays representing two sets of variables. Compute the correlation coefficient between these \n",
    "#arrays using NumPy's `corrcoef` function.\n",
    "\n",
    "import numpy as np\n",
    "\n",
    "a=np.array([1,12,14,16,18,20])\n",
    "b=np.array([21,22,24,26,28,30])\n",
    "\n",
    "corr_coff=np.corrcoef(a,b)[0,1]\n",
    "\n",
    "print(\"correlation coefficien:\",corr_coff)"
   ]
  },
  {
   "cell_type": "code",
   "execution_count": 34,
   "id": "de8f82c5-779a-4ccb-be8c-1cc906fb1c8c",
   "metadata": {},
   "outputs": [
    {
     "name": "stdout",
     "output_type": "stream",
     "text": [
      "matrix a:\n",
      "[[1 2 3]\n",
      " [4 5 6]]\n",
      "matrix b:\n",
      "[[1 2]\n",
      " [3 4]\n",
      " [5 6]]\n",
      "matrix multiplication:\n",
      "[[22 28]\n",
      " [49 64]]\n"
     ]
    }
   ],
   "source": [
    "#64.Create two matrices and perform matrix multiplication using NumPy's `dot` function.\n",
    "\n",
    "import numpy as np\n",
    "\n",
    "a=np.array([[1,2,3],[4,5,6]])  # shape(2,3)\n",
    "b=np.array([[1,2],[3,4],[5,6]])  #shape(3,2)\n",
    "\n",
    "\n",
    "c= np.dot(a, b)\n",
    "\n",
    "print(\"matrix a:\")\n",
    "print(a)\n",
    "print(\"matrix b:\")\n",
    "print(b)\n",
    "\n",
    "print(\"matrix multiplication:\")\n",
    "print(c)\n"
   ]
  },
  {
   "cell_type": "code",
   "execution_count": 39,
   "id": "34918a0f-37e0-48f6-b76b-e0d485e0180c",
   "metadata": {},
   "outputs": [
    {
     "name": "stdout",
     "output_type": "stream",
     "text": [
      "original array:\n",
      "[402 785 899 990  89 774 917  96 472 185 986 358 574 366 416 626 969 875\n",
      " 487 751 689 189 427 256 151 263  44 374 401 411 643 656 552 207 488 283\n",
      " 119 268 322 466 456 431 375 846 959 146 376 546 642 205]\n",
      "percentiles and quartiles\n",
      "10th percentile: 150.5\n",
      "50th percentile: 429.0\n",
      "90th percentile: 900.8000000000001\n",
      "1st quartiles: 271.75\n",
      "3rd qaurtiles: 652.75\n"
     ]
    }
   ],
   "source": [
    "#65. Create an array of 50 integers between 10 and 1000. Calculate the 10th, 50th (median), and 90th \n",
    "#percentiles along with the first and third quartiles\n",
    "\n",
    "import numpy as np\n",
    "\n",
    "arr=np.random.randint(10,1001,50)\n",
    "\n",
    "#calculate the 10th,50th(mnedian), and 90th percentile\n",
    "p10=np.percentile(arr, 10)\n",
    "p50=np.percentile(arr,50)\n",
    "p90=np.percentile(arr,90)\n",
    "\n",
    "#calculate the first and third quartiles\n",
    "\n",
    "q1=np.percentile(arr,25)\n",
    "q3=np.percentile(arr,75)\n",
    "\n",
    "print('original array:')\n",
    "print(arr)\n",
    "print(\"percentiles and quartiles\")\n",
    "print(\"10th percentile:\", p10)\n",
    "print(\"50th percentile:\",p50)\n",
    "print('90th percentile:',p90)\n",
    "print(\"1st quartiles:\",q1)\n",
    "print(\"3rd qaurtiles:\",q3)\n"
   ]
  },
  {
   "cell_type": "code",
   "execution_count": 65,
   "id": "569b2674-d2d6-4344-bc61-2b60ac7746ea",
   "metadata": {},
   "outputs": [
    {
     "name": "stdout",
     "output_type": "stream",
     "text": [
      "[[1 2 3]\n",
      " [4 5 6]\n",
      " [7 8 9]]\n",
      "(array([1]), array([1]))\n",
      "(array([1]), array([0]))\n"
     ]
    }
   ],
   "source": [
    "#66.Create a NumPy array of integers and find the index of a specific element.\n",
    "\n",
    "import numpy as np\n",
    "\n",
    "arr=np.array([[1,2,3],\n",
    "              [4,5,6,],\n",
    "              [7,8,9]])\n",
    "\n",
    "print(arr)\n",
    "\n",
    "#find the index of 5,4\n",
    "\n",
    "a=np.where(arr==5)\n",
    "print(a)\n",
    "b=np.where(arr==4)\n",
    "print(b)"
   ]
  },
  {
   "cell_type": "code",
   "execution_count": 71,
   "id": "44cbbe8e-4917-4e74-86a2-5c30442cc259",
   "metadata": {},
   "outputs": [
    {
     "name": "stdout",
     "output_type": "stream",
     "text": [
      "[8 1 6 3 7 7 4 6 7 3]\n",
      "after sorted in ascending order:\n",
      "[1 3 3 4 6 6 7 7 7 8]\n"
     ]
    }
   ],
   "source": [
    "#67. Generate a random NumPy array and sort it in ascending order\n",
    "\n",
    "import numpy as np\n",
    "\n",
    "arr=np.random.randint(1,10,10)\n",
    "\n",
    "print(arr)\n",
    "\n",
    "#sorted in ascending order\n",
    "sort=np.sort(arr)\n",
    "print(\"after sorted in ascending order:\")\n",
    "print(sort)"
   ]
  },
  {
   "cell_type": "code",
   "execution_count": 75,
   "id": "55179770-d514-4540-9c5d-33b03bcb7b7a",
   "metadata": {},
   "outputs": [
    {
     "name": "stdout",
     "output_type": "stream",
     "text": [
      "[25 42 30]\n"
     ]
    }
   ],
   "source": [
    "#68. Filter elements >20  in the given NumPy array.\n",
    " \n",
    "    \n",
    "import numpy as np\n",
    "\n",
    "arr = np.array([12, 25, 6, 42, 8, 30])\n",
    "\n",
    "#filter elements > 20\n",
    "a= arr[arr > 20]\n",
    "print(a)\n"
   ]
  },
  {
   "cell_type": "code",
   "execution_count": 78,
   "id": "fcc3d558-affe-4ef3-999e-145d1c519cc8",
   "metadata": {},
   "outputs": [
    {
     "name": "stdout",
     "output_type": "stream",
     "text": [
      "12\n",
      "15\n",
      "[12 15]\n"
     ]
    }
   ],
   "source": [
    "#69. Filter elements which are divisible by 3 from a given NumPy array.\n",
    "\n",
    "import numpy as np\n",
    "\n",
    "arr = np.array([1, 5, 8, 12, 15])\n",
    "\n",
    "for i in arr:\n",
    "    if i %3==0:\n",
    "        print(i)\n",
    "        \n",
    "#another method\n",
    "\n",
    "filtered=arr[arr %3==0]\n",
    "\n",
    "print(filtered)"
   ]
  },
  {
   "cell_type": "code",
   "execution_count": 91,
   "id": "f731eb59-3abc-4549-b8cd-98a40bad4275",
   "metadata": {},
   "outputs": [
    {
     "name": "stdout",
     "output_type": "stream",
     "text": [
      "[20 30 40]\n"
     ]
    }
   ],
   "source": [
    "#70.. Filter elements which are ≥ 20 and ≤ 40 from a given NumPy array.\n",
    "\n",
    "import numpy as np\n",
    "\n",
    "arr = np.array([10, 20, 30, 40, 50])\n",
    "\n",
    "filtered=arr[ (arr >=20) &(arr <=40)]\n",
    "             \n",
    "print(filtered)"
   ]
  },
  {
   "cell_type": "code",
   "execution_count": 100,
   "id": "3b0e4df2-a8c4-4101-bd9d-aeb010ceeada",
   "metadata": {},
   "outputs": [
    {
     "name": "stdout",
     "output_type": "stream",
     "text": [
      "int64\n",
      "byte order: =\n"
     ]
    }
   ],
   "source": [
    "#71.For the given NumPy array, check its byte order using the `dtype` attribute byteorder.\n",
    "\n",
    "import numpy as np\n",
    "\n",
    "arr = np.array([1, 2, 3])\n",
    "\n",
    "print(arr.dtype)\n",
    "\n",
    "#check byteorder of the array\n",
    "\n",
    "byte_order= arr.dtype.byteorder\n",
    "\n",
    "print(\"byte order:\", byte_order)"
   ]
  },
  {
   "cell_type": "code",
   "execution_count": 110,
   "id": "3acf3b62-3504-41b9-b617-4fa8eaf9c81c",
   "metadata": {},
   "outputs": [
    {
     "name": "stdout",
     "output_type": "stream",
     "text": [
      "original array: [1 2 3]\n",
      "after byteswapping: [16777216 33554432 50331648]\n"
     ]
    }
   ],
   "source": [
    "#72.For the given NumPy array, perform byte swapping in place using `byteswap()`.\n",
    " \n",
    "import numpy as np\n",
    "\n",
    "\n",
    "arr = np.array([1, 2, 3], dtype=np.int32)\n",
    "print(\"original array:\", arr)\n",
    "#performing byteswap in place\n",
    "byteswap=arr.byteswap()\n",
    "print(\"after byteswapping:\",byteswap)\n"
   ]
  },
  {
   "cell_type": "code",
   "execution_count": 120,
   "id": "66401b88-918c-41db-96d3-40ba47cf4c88",
   "metadata": {},
   "outputs": [
    {
     "name": "stdout",
     "output_type": "stream",
     "text": [
      "org array: [1 2 3]\n",
      "after modify: [16777216 33554432 50331648]\n"
     ]
    }
   ],
   "source": [
    "#73. For the given NumPy array, swap its byte order without modifying the original array using `newbyteorder()`.\n",
    "\n",
    "import numpy as np\n",
    "\n",
    "\n",
    "arr = np.array([1, 2, 3], dtype=np.int32)\n",
    "\n",
    "#without modifying using newbyteorder()\n",
    "arr2= arr.view(arr.dtype.newbyteorder())\n",
    "\n",
    "print(\"org array:\",arr)\n",
    "print(\"after modify:\", arr2)"
   ]
  },
  {
   "cell_type": "code",
   "execution_count": 126,
   "id": "30fcc963-e876-4ca5-b818-abb97f6a8890",
   "metadata": {},
   "outputs": [
    {
     "name": "stdout",
     "output_type": "stream",
     "text": [
      "[16777216 33554432 50331648]\n",
      "[1 2 3]\n",
      "[1 2 3]\n"
     ]
    }
   ],
   "source": [
    "#74. For the given NumPy array and swap its byte order conditionally based on system endianness using `newbyteorder()`.\n",
    "\n",
    "import numpy as np\n",
    "\n",
    "arr = np.array([1, 2, 3], dtype=np.int32)\n",
    "\n",
    "#check the system endiannes\n",
    "\n",
    "swapped_arr=arr.newbyteorder('>')  # big-endian\n",
    "print(swapped_arr) \n"
   ]
  },
  {
   "cell_type": "code",
   "execution_count": 130,
   "id": "c8570b4f-2834-4585-8950-cc30c36abe20",
   "metadata": {},
   "outputs": [
    {
     "name": "stdout",
     "output_type": "stream",
     "text": [
      "No byte swapping is necessary, the array byte native to the system\n"
     ]
    }
   ],
   "source": [
    "#75. For the given NumPy array, check if byte swapping is necessary for the current system using `dtype` attribute `byteorder`.\n",
    "\n",
    "import numpy as np\n",
    "\n",
    "arr = np.array([1, 2, 3], dtype=np.int32)\n",
    "\n",
    "#checking byte swapping necessary\n",
    "if arr.dtype.byteorder == \"=\":\n",
    "    print(\"No byte swapping is necessary, the array byte native to the system\")\n",
    "elif arr.dtype.byteorder == \"<\":\n",
    "    print(\"byte swapping is necessary bcs its little endian\")\n",
    "elif arr.dtype.byteorder==\">\":\n",
    "    print(\"byte swapping is nexessary bcs its big-endian\")"
   ]
  },
  {
   "cell_type": "code",
   "execution_count": 151,
   "id": "d638a414-54ee-476e-8d1f-55cab0613520",
   "metadata": {},
   "outputs": [
    {
     "name": "stdout",
     "output_type": "stream",
     "text": [
      "arr1 values from 1 to 10: [ 1  2  3  4  5  6  7  8  9 10]\n",
      "copy of arr1: [ 1  2  3  4  5  6  7  8  9 10]\n",
      "after modification in copy_arr:\n",
      "[ 1  2 50  4  5  6  7  8  9 10]\n",
      "\n",
      "original array after modifying in copy:\n",
      "[ 1  2  3  4  5  6  7  8  9 10]\n"
     ]
    }
   ],
   "source": [
    "#76.Create a NumPy array `arr1` with values from 1 to 10. Create a copy of `arr1` named `copy_arr` and modify \n",
    "#an element in `copy_arr`. Check if modifying `copy_arr` affects `arr1`\n",
    "\n",
    "import numpy as np\n",
    "\n",
    "#Create a NumPy array `arr1` with values from 1 to 10.\n",
    "arr1= np.array([1,2,3,4,5,6,7,8,9,10])\n",
    "\n",
    "print(\"arr1 values from 1 to 10:\",arr1)\n",
    "#Create a copy of `arr1` named `copy_arr`\n",
    "copy_arr=arr1.copy()\n",
    "print(\"copy of arr1:\",copy_arr)\n",
    "#modifying an element in `copy_arr`\n",
    "modify=copy_arr[2]=50\n",
    "\n",
    "print(\"after modification in copy_arr:\")\n",
    "print(copy_arr)\n",
    "print()\n",
    "\n",
    "print(\"original array after modifying in copy:\")\n",
    "print(arr1)"
   ]
  },
  {
   "cell_type": "code",
   "execution_count": 8,
   "id": "a20ed7b3-d0a9-4ba1-beef-2c73ac3739ed",
   "metadata": {},
   "outputs": [
    {
     "name": "stdout",
     "output_type": "stream",
     "text": [
      "original matrix:\n",
      "[[4 9 2]\n",
      " [3 9 8]\n",
      " [5 4 7]]\n",
      "\n",
      "view slice:\n",
      "[[3]\n",
      " [5]]\n",
      "\n",
      "modify view slice:\n",
      "[[500]\n",
      " [  5]]\n",
      "\n",
      "after modify in view slice original matrix:\n",
      "[[  4   9   2]\n",
      " [500   9   8]\n",
      " [  5   4   7]]\n"
     ]
    }
   ],
   "source": [
    "#77. Create a 2D NumPy array `matrix` of shape (3, 3) with random integers. Extract a slice `view_slice` from \n",
    "#the matrix. Modify an element in `view_slice` and observe if it changes the original `matrix`.\n",
    "\n",
    "import numpy as np\n",
    "\n",
    "matrix= np.random.randint(1,10,(3,3))\n",
    "print('original matrix:')\n",
    "print(matrix)\n",
    "print()\n",
    "\n",
    "view_slice= matrix[1:,:1]\n",
    "print(\"view slice:\")\n",
    "print(view_slice)\n",
    "print()\n",
    "\n",
    "#modiy element\n",
    "\n",
    "view_slice[0,0]= 500\n",
    "print('modify view slice:')\n",
    "print(view_slice)\n",
    "print()\n",
    "\n",
    "#checking the original matrix changed or not\n",
    "\n",
    "print(\"checking that,after modify in view slice original matrix:\")\n",
    "print(matrix)"
   ]
  },
  {
   "cell_type": "code",
   "execution_count": 12,
   "id": "19ef18bc-08f7-455d-bdf9-890dae6d1165",
   "metadata": {},
   "outputs": [
    {
     "name": "stdout",
     "output_type": "stream",
     "text": [
      "NumPy array `array_a` of shape (4, 3):\n",
      "[[ 1  2  3]\n",
      " [ 4  5  6]\n",
      " [ 7  8  9]\n",
      " [10 11 12]]\n",
      "\n",
      "Extracted a slice:\n",
      "[[ 7  8  9]\n",
      " [10 11 12]]\n",
      "\n",
      "broadcast the addition of 5 to view_b:\n",
      "[[12 13 14]\n",
      " [15 16 17]]\n",
      "\n",
      "checking the alters the original `array_a`\n",
      "[[ 1  2  3]\n",
      " [ 4  5  6]\n",
      " [ 7  8  9]\n",
      " [10 11 12]]\n"
     ]
    }
   ],
   "source": [
    "#78. Create a NumPy array `array_a` of shape (4, 3) with sequential integers from 1 to 12. Extract a slice \n",
    "#`view_b` from `array_a` and broadcast the addition of 5 to view_b. Check if it alters the original `array_a`\n",
    "\n",
    "import numpy as np\n",
    "\n",
    "array_a= np.array([[1,2,3],[4,5,6],[7,8,9],[10,11,12]])\n",
    "\n",
    "print(\"NumPy array `array_a` of shape (4, 3):\")\n",
    "print(array_a)\n",
    "print()\n",
    "\n",
    "#extract a slice\n",
    "\n",
    "view_b= array_a[2:,:3]\n",
    "print(\"Extracted a slice:\")\n",
    "print(view_b)\n",
    "print()\n",
    "\n",
    "#broadcast the addition of 5 to view_b\n",
    "\n",
    "broadcast= view_b +5\n",
    "print(\"broadcast the addition of 5 to view_b:\")\n",
    "print(broadcast)\n",
    "print()\n",
    "\n",
    "\n",
    "print(\"checking the alters the original `array_a`\")\n",
    "print(array_a)\n"
   ]
  },
  {
   "cell_type": "code",
   "execution_count": 18,
   "id": "1cb1a7cf-8410-443b-a6f3-6c71d3080c1d",
   "metadata": {},
   "outputs": [
    {
     "name": "stdout",
     "output_type": "stream",
     "text": [
      "orig_array` of shape (2, 4) with values from 1 to 8:\n",
      "[[1 2 3 4]\n",
      " [5 6 7 8]]\n",
      "\n",
      "create reshaped_view` of shape (4, 2):\n",
      "[[1 2]\n",
      " [3 4]\n",
      " [5 6]\n",
      " [7 8]]\n",
      "\n",
      "reshape_view after modification:\n",
      "[[ 1  2]\n",
      " [ 3  4]\n",
      " [ 5  6]\n",
      " [ 7 50]]\n",
      "\n",
      "original arig_array:\n",
      "[[ 1  2  3  4]\n",
      " [ 5  6  7 50]]\n"
     ]
    }
   ],
   "source": [
    "#79.Create a NumPy array `orig_array` of shape (2, 4) with values from 1 to 8. Create a reshaped view \n",
    "#`reshaped_view` of shape (4, 2) from orig_array. Modify an element in `reshaped_view` and check if it \n",
    "#reflects changes in the original `orig_array`\n",
    "\n",
    "import numpy as np\n",
    "\n",
    "arig_array=np.array([[1,2,3,4],[5,6,7,8]])\n",
    "\n",
    "print(\"orig_array` of shape (2, 4) with values from 1 to 8:\")\n",
    "print(arig_array)\n",
    "print()\n",
    "\n",
    "\n",
    "reshape_view= arig_array.reshape(4,2)\n",
    "\n",
    "print(\"create reshaped_view` of shape (4, 2):\")\n",
    "print(reshape_view)\n",
    "print()\n",
    "\n",
    "#Modify an element in `reshaped_view`\n",
    "reshape_view[3,1]=50 \n",
    "\n",
    "print(\"reshape_view after modification:\")\n",
    "print(reshape_view)\n",
    "print()\n",
    "\n",
    "#checking reflects changes in the original `orig_array\n",
    "print(\"original arig_array:\")\n",
    "print(arig_array)"
   ]
  },
  {
   "cell_type": "code",
   "execution_count": 38,
   "id": "5d6a0c00-bfd7-440a-8f1a-53791ed47494",
   "metadata": {},
   "outputs": [
    {
     "name": "stdout",
     "output_type": "stream",
     "text": [
      "data:\n",
      "[[16  5  9  6]\n",
      " [ 5 14  2  0]\n",
      " [16 10  0 12]]\n",
      "\n",
      "data copy of greater than 5\n",
      "[16  9  6 14 16 10 12]\n",
      "\n",
      "after modify the data copy:\n",
      "[16  9 50 14 16 10 12]\n",
      "\n",
      "verify if it affects the original `data\n",
      "original data:\n",
      "[[16  5  9  6]\n",
      " [ 5 14  2  0]\n",
      " [16 10  0 12]]\n",
      "\n",
      "copy data:\n",
      "[16  9 50 14 16 10 12]\n"
     ]
    }
   ],
   "source": [
    "# 80. Create a NumPy array `data` of shape (3, 4) with random integers. Extract a copy `data_copy` of \n",
    "#elements greater than 5. Modify an element in `data_copy` and verify if it affects the original `data`.\n",
    "\n",
    "\n",
    "import numpy as np\n",
    "\n",
    "data= np.random.randint(0,20,(3,4))\n",
    "print(\"data:\")\n",
    "print(data)\n",
    "print()\n",
    "#Extract a copy `data_copy` of elements greater than 5.\n",
    "\n",
    "data_copy= data[data.copy()  > 5]\n",
    "print(\"data copy of greater than 5\")\n",
    "print(data_copy)\n",
    "print()\n",
    "\n",
    "#Modify an element in `data_copy`\n",
    "\n",
    "data_copy[2]= 50\n",
    "print(\"after modify the data copy:\")\n",
    "print(data_copy)\n",
    "print()\n",
    "\n",
    "#verify if it affects the original `data\n",
    "print(\"verify if it affects the original `data\")\n",
    "print(\"original data:\")\n",
    "print(data)\n",
    "print()\n",
    "print(\"copy data:\")\n",
    "print(data_copy)"
   ]
  },
  {
   "cell_type": "code",
   "execution_count": 44,
   "id": "0cc865db-0b44-4a2e-8c93-1555dcdf2724",
   "metadata": {},
   "outputs": [
    {
     "name": "stdout",
     "output_type": "stream",
     "text": [
      "a: [[8 2 3]\n",
      " [9 1 4]\n",
      " [5 9 4]]\n",
      "\n",
      "b: [[2 1 2]\n",
      " [5 4 2]\n",
      " [9 9 8]]\n",
      "addition operation between a and b:\n",
      "[[10  3  5]\n",
      " [14  5  6]\n",
      " [14 18 12]]\n",
      "subtraction operation between a and b:\n",
      "[[ 6  1  1]\n",
      " [ 4 -3  2]\n",
      " [-4  0 -4]]\n"
     ]
    }
   ],
   "source": [
    "# 81. Create two matrices A and B of identical shape containing integers and perform addition and subtraction operations between them.\n",
    "\n",
    "import numpy as np\n",
    "\n",
    "#Create two matrices A and B of identical shape containing integers\n",
    "a= np.random.randint(1,10,(3,3))\n",
    "b=np.random.randint(1,10,(3,3))\n",
    "\n",
    "print(\"a:\",a)\n",
    "print()\n",
    "print(\"b:\",b)\n",
    "\n",
    "\n",
    "#addition operation:\n",
    "print(\"addition operation between a and b:\")\n",
    "addition= a + b\n",
    "print(addition)\n",
    "\n",
    "#subtraction operation:\n",
    "print(\"subtraction operation between a and b:\")\n",
    "sub= a-b\n",
    "print(sub)"
   ]
  },
  {
   "cell_type": "code",
   "execution_count": 50,
   "id": "7db63de0-de09-4a24-b7bb-113dd4937dfc",
   "metadata": {},
   "outputs": [
    {
     "name": "stdout",
     "output_type": "stream",
     "text": [
      "two matrices\n",
      "c:\n",
      "[[9 8]\n",
      " [7 9]\n",
      " [6 6]]\n",
      "\n",
      "d:\n",
      "[[6 9 2 9]\n",
      " [9 1 9 8]]\n",
      "\n",
      "matrix multiplication of c and d:\n",
      "[[126  89  90 145]\n",
      " [123  72  95 135]\n",
      " [ 90  60  66 102]]\n"
     ]
    }
   ],
   "source": [
    "# 82. Generate two matrices `C` (3x2) and `D` (2x4) and perform matrix multiplication\n",
    "\n",
    "import numpy as np\n",
    "\n",
    "c= np.random.randint(1,10,(3,2))  #shape (3,2)\n",
    "d= np.random.randint(1,10,(2,4))    #shape (2,4)\n",
    "\n",
    "print(\"two matrices\")\n",
    "print(\"c:\")\n",
    "print(c)\n",
    "print()\n",
    "print(\"d:\")\n",
    "print(d)\n",
    "print()\n",
    "\n",
    "#perform matrix multiplication\n",
    "print(\"matrix multiplication of c and d:\")\n",
    "\n",
    "matrix_multp=np.dot(c,d)\n",
    "\n",
    "print(matrix_multp)\n",
    "\n"
   ]
  },
  {
   "cell_type": "code",
   "execution_count": 55,
   "id": "e5bc9a3a-7bb3-47f3-a0a1-3be6e4a7b51e",
   "metadata": {},
   "outputs": [
    {
     "name": "stdout",
     "output_type": "stream",
     "text": [
      "E:\n",
      "[[7 2 7]\n",
      " [1 8 6]\n",
      " [5 3 2]]\n",
      "transpose:\n",
      "[[7 1 5]\n",
      " [2 8 3]\n",
      " [7 6 2]]\n"
     ]
    }
   ],
   "source": [
    "#83. Create a matrix `E` and find its transpose.\n",
    "\n",
    "import numpy as np\n",
    "\n",
    "\n",
    "#Create a matrix `E`.\n",
    "E= np.random.randint(1,10,(3,3))\n",
    "print(\"E:\")\n",
    "print(E)\n",
    "\n",
    "#find its transpose.\n",
    "\n",
    "transpose=E.T\n",
    "print(\"transpose:\")\n",
    "print(transpose)"
   ]
  },
  {
   "cell_type": "code",
   "execution_count": 61,
   "id": "c59459d5-9d8a-4506-b7ef-4a1ce7f0562a",
   "metadata": {},
   "outputs": [
    {
     "name": "stdout",
     "output_type": "stream",
     "text": [
      "F:\n",
      "[[5 4 6]\n",
      " [8 8 8]\n",
      " [2 1 9]]\n",
      "\n",
      "determinant of F:\n",
      "47.999999999999986\n"
     ]
    }
   ],
   "source": [
    "#84.Generate a square matrix `F` and compute its determinant.\n",
    "\n",
    "import numpy as np\n",
    "\n",
    "\n",
    "\n",
    "#Generate a square matrix `F`\n",
    "\n",
    "F= np.random.randint(1,11,(3,3))\n",
    "print(\"F:\")\n",
    "print(F)\n",
    "print()\n",
    "\n",
    "#compute its determinant.\n",
    "\n",
    "determinant_F= np.linalg.det(F)\n",
    "print(\"determinant of F:\")\n",
    "print(determinant_F)"
   ]
  },
  {
   "cell_type": "code",
   "execution_count": 64,
   "id": "5487942c-6ddd-479a-851a-2286e0f81989",
   "metadata": {},
   "outputs": [
    {
     "name": "stdout",
     "output_type": "stream",
     "text": [
      "G:\n",
      "[[ 6  2  4  4]\n",
      " [10  3  1  9]\n",
      " [ 4  2  8  7]\n",
      " [ 6  6  6  2]]\n",
      "\n",
      "inverse of G:\n",
      "[[ 0.41552511 -0.05022831 -0.15525114 -0.06164384]\n",
      " [-0.50456621  0.13242009  0.0456621   0.25342466]\n",
      " [ 0.19406393 -0.12785388  0.05936073 -0.02054795]\n",
      " [-0.31506849  0.1369863   0.15068493 -0.01369863]]\n"
     ]
    }
   ],
   "source": [
    "#85.Create a square matrix `G` and find its inverse\n",
    "\n",
    "import numpy as np\n",
    "\n",
    "G= np.random.randint(1,11,(4,4))\n",
    "\n",
    "# find its inverse\n",
    "\n",
    "inv= np.linalg.inv(G)\n",
    "\n",
    "print(\"G:\")\n",
    "print(G)\n",
    "print()\n",
    "print(\"inverse of G:\")\n",
    "print(inv)"
   ]
  }
 ],
 "metadata": {
  "kernelspec": {
   "display_name": "Python 3 (ipykernel)",
   "language": "python",
   "name": "python3"
  },
  "language_info": {
   "codemirror_mode": {
    "name": "ipython",
    "version": 3
   },
   "file_extension": ".py",
   "mimetype": "text/x-python",
   "name": "python",
   "nbconvert_exporter": "python",
   "pygments_lexer": "ipython3",
   "version": "3.10.8"
  }
 },
 "nbformat": 4,
 "nbformat_minor": 5
}
